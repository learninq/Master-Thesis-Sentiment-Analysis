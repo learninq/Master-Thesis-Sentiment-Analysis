{
 "cells": [
  {
   "cell_type": "code",
   "execution_count": 1,
   "id": "78bf76cd-7fc1-4372-a4a2-6c798436e256",
   "metadata": {},
   "outputs": [],
   "source": [
    "import json\n",
    "import nltk\n",
    "import pandas as pd\n",
    "import spacy\n",
    "import string\n",
    "\n",
    "from collections import namedtuple\n",
    "from nltk.corpus import wordnet as wn, sentiwordnet as swn, stopwords\n",
    "from nltk.stem import WordNetLemmatizer\n",
    "from nltk.stem.porter import PorterStemmer\n",
    "from nltk.tokenize import word_tokenize"
   ]
  },
  {
   "cell_type": "markdown",
   "id": "0c9eafff-744b-4b7e-a957-6223140d23ba",
   "metadata": {},
   "source": [
    "# Data Reading"
   ]
  },
  {
   "cell_type": "code",
   "execution_count": 2,
   "id": "a0d75137-a0bc-45b4-a376-bbb4c5f8c69c",
   "metadata": {},
   "outputs": [],
   "source": [
    "# Set True to execute code by using Google Colab\n",
    "# Set False to execute code by using local computer\n",
    "USE_COLAB=False"
   ]
  },
  {
   "cell_type": "code",
   "execution_count": 3,
   "id": "ce551349-2536-4480-aad4-fbff52bf9039",
   "metadata": {},
   "outputs": [],
   "source": [
    "# If Google Colab is used, add google.colab library\n",
    "if USE_COLAB:\n",
    "  from google.colab import drive"
   ]
  },
  {
   "cell_type": "code",
   "execution_count": 4,
   "id": "cdb1dce9-61af-4922-a386-d396754cd524",
   "metadata": {},
   "outputs": [],
   "source": [
    "# If Google Colab is used, mount Google Drive to Colab System\n",
    "if USE_COLAB:\n",
    "  drive.mount('/content/gdrive/')"
   ]
  },
  {
   "cell_type": "code",
   "execution_count": 5,
   "id": "c29500fc-fc23-4cd8-9ba6-4270eed2ecf8",
   "metadata": {},
   "outputs": [],
   "source": [
    "# Define the root path for working directory\n",
    "root_path = '/content/gdrive/MyDrive/Master-Thesis/master-thesis-sentiment-analysis' if USE_COLAB else '.'"
   ]
  },
  {
   "cell_type": "code",
   "execution_count": 6,
   "id": "6261bbde-eb5d-40e0-96ea-a59a3fe0790c",
   "metadata": {},
   "outputs": [],
   "source": [
    "data_path = f\"{root_path}/datasets/temp/Amazon Reviews 2023/Sports_and_Outdoors.jsonl\""
   ]
  },
  {
   "cell_type": "code",
   "execution_count": 7,
   "id": "27db07b5-5b57-4b91-8106-b05842545437",
   "metadata": {},
   "outputs": [],
   "source": [
    "data_saved_path = f\"{root_path}/datasets/temp/Amazon Reviews 2023\""
   ]
  },
  {
   "cell_type": "code",
   "execution_count": 8,
   "id": "918cb03e-0655-4692-b2bc-0c6f6c92436b",
   "metadata": {},
   "outputs": [
    {
     "data": {
      "text/plain": [
       "[{'rating': 5.0,\n",
       "  'title': 'Crazy comfy!',\n",
       "  'text': 'Not gonna lie- they are not much to look at. Lol. Luckily I’m one of those ppl that values things for function over looks & these function well so far. They are seriously one of the most comfortable pairs of socks I’ve owned in 5 decades.  I have not tried to wash them yet, so fingers crossed on that rn.  They feel very cushiony.  I wear them in my winter boots & just on my feet shoeless around my home.  I wish they came in more colors.  I’m one of those ppl that absolutely cannot stand toe seams on socks, but these have not bothered me at all.  I have super high arches so the only change I would make to the socks would be some compression there.  However, the socks fit perfectly as-is which really surprised me given my arches.  I just like having compression at my arches bc it feels good on them.  I wear a ladies 10-1/2 shoe- mens 8-1/2 and I bought the medium socks. They fit perfectly.  That’s never happened.  I had honestly expected to have to get them wet on my feet & let them shrink to fit (as they dried on my feet to my size) since they are wool. Lol. I also expected to need sock liners as I’ve had issues with wool in the past (allergies- I knit & crochet it), but I’ve not had any issues with itching luckily. Hopefully the allergy is behind me now.  This week in northern Colorado I’ve worn the socks inside my boots in minus 15 degrees & can honestly say my feet were the only warm part of my body while walking my dogs.  Seriously thinking about making mittens out of a pair bc they kept my feet so warm. Lol.  Probably the best $15 I’ve ever spent on Amazon.  These are wonderfully thick & comfy socks.  They aren’t much to look at imo, but far better than the $28 Darn socks I tried before & that was for 1 pair!',\n",
       "  'images': [],\n",
       "  'asin': 'B07F3BDT8T',\n",
       "  'parent_asin': 'B0BGFR76CF',\n",
       "  'user_id': 'AFKZENTNBQ7A7V7UXW5JJI6UGRYQ',\n",
       "  'timestamp': 1677321053520,\n",
       "  'helpful_vote': 8,\n",
       "  'verified_purchase': True}]"
      ]
     },
     "execution_count": 8,
     "metadata": {},
     "output_type": "execute_result"
    }
   ],
   "source": [
    "with open(data_path, 'r') as fs:\n",
    "    first_review = [json.loads(next(fs).strip()) for _ in range(1)]\n",
    "first_review"
   ]
  },
  {
   "cell_type": "code",
   "execution_count": 9,
   "id": "7a47045c-280d-4b55-b164-44670fd3e4c1",
   "metadata": {},
   "outputs": [],
   "source": [
    "def read_reviews():\n",
    "    temp = []\n",
    "    with open(data_path, 'r') as fs:\n",
    "        for line in fs:\n",
    "            json_text = json.loads(line.strip())\n",
    "            temp.append((json_text[\"title\"], json_text[\"text\"], json_text[\"rating\"]))\n",
    "    \n",
    "    return pd.DataFrame(temp, columns =[\"review_title\", \"review_text\", \"rating\"])"
   ]
  },
  {
   "cell_type": "code",
   "execution_count": 10,
   "id": "b9eeadf8-ae86-4672-b957-628d572373b8",
   "metadata": {},
   "outputs": [
    {
     "name": "stdout",
     "output_type": "stream",
     "text": [
      "CPU times: total: 4min 47s\n",
      "Wall time: 6min 25s\n"
     ]
    }
   ],
   "source": [
    "%%time\n",
    "df = read_reviews()"
   ]
  },
  {
   "cell_type": "code",
   "execution_count": 11,
   "id": "f18520db-6afc-44cf-b86f-ca6946f41674",
   "metadata": {},
   "outputs": [
    {
     "name": "stdout",
     "output_type": "stream",
     "text": [
      "<class 'pandas.core.frame.DataFrame'>\n",
      "RangeIndex: 19595170 entries, 0 to 19595169\n",
      "Data columns (total 3 columns):\n",
      " #   Column        Dtype  \n",
      "---  ------        -----  \n",
      " 0   review_title  object \n",
      " 1   review_text   object \n",
      " 2   rating        float64\n",
      "dtypes: float64(1), object(2)\n",
      "memory usage: 448.5+ MB\n"
     ]
    }
   ],
   "source": [
    "df.info()"
   ]
  },
  {
   "cell_type": "code",
   "execution_count": 12,
   "id": "a692ec34-5e9c-45af-ae8a-0db106c657a1",
   "metadata": {},
   "outputs": [
    {
     "data": {
      "text/plain": [
       "review_title    0\n",
       "review_text     0\n",
       "rating          0\n",
       "dtype: int64"
      ]
     },
     "execution_count": 12,
     "metadata": {},
     "output_type": "execute_result"
    }
   ],
   "source": [
    "df.isnull().sum()"
   ]
  },
  {
   "cell_type": "code",
   "execution_count": 13,
   "id": "12d42e32-7cf2-45a7-a827-3e6885a25d04",
   "metadata": {},
   "outputs": [
    {
     "data": {
      "text/html": [
       "<div>\n",
       "<style scoped>\n",
       "    .dataframe tbody tr th:only-of-type {\n",
       "        vertical-align: middle;\n",
       "    }\n",
       "\n",
       "    .dataframe tbody tr th {\n",
       "        vertical-align: top;\n",
       "    }\n",
       "\n",
       "    .dataframe thead th {\n",
       "        text-align: right;\n",
       "    }\n",
       "</style>\n",
       "<table border=\"1\" class=\"dataframe\">\n",
       "  <thead>\n",
       "    <tr style=\"text-align: right;\">\n",
       "      <th></th>\n",
       "      <th>review_title</th>\n",
       "      <th>review_text</th>\n",
       "      <th>rating</th>\n",
       "    </tr>\n",
       "  </thead>\n",
       "  <tbody>\n",
       "    <tr>\n",
       "      <th>0</th>\n",
       "      <td>Crazy comfy!</td>\n",
       "      <td>Not gonna lie- they are not much to look at. L...</td>\n",
       "      <td>5.0</td>\n",
       "    </tr>\n",
       "    <tr>\n",
       "      <th>1</th>\n",
       "      <td>Excellent!</td>\n",
       "      <td>I love it. Pretty!</td>\n",
       "      <td>5.0</td>\n",
       "    </tr>\n",
       "    <tr>\n",
       "      <th>2</th>\n",
       "      <td>Best saddle pads</td>\n",
       "      <td>Huge fan of B Vertigo and this dressage pad do...</td>\n",
       "      <td>5.0</td>\n",
       "    </tr>\n",
       "    <tr>\n",
       "      <th>3</th>\n",
       "      <td>Perfect repair kit</td>\n",
       "      <td>I have a great Weaver halter. Recently, the Ch...</td>\n",
       "      <td>5.0</td>\n",
       "    </tr>\n",
       "    <tr>\n",
       "      <th>4</th>\n",
       "      <td>Works great</td>\n",
       "      <td>This was great for a slightly too-short girth!...</td>\n",
       "      <td>5.0</td>\n",
       "    </tr>\n",
       "  </tbody>\n",
       "</table>\n",
       "</div>"
      ],
      "text/plain": [
       "         review_title                                        review_text  \\\n",
       "0        Crazy comfy!  Not gonna lie- they are not much to look at. L...   \n",
       "1          Excellent!                                 I love it. Pretty!   \n",
       "2    Best saddle pads  Huge fan of B Vertigo and this dressage pad do...   \n",
       "3  Perfect repair kit  I have a great Weaver halter. Recently, the Ch...   \n",
       "4         Works great  This was great for a slightly too-short girth!...   \n",
       "\n",
       "   rating  \n",
       "0     5.0  \n",
       "1     5.0  \n",
       "2     5.0  \n",
       "3     5.0  \n",
       "4     5.0  "
      ]
     },
     "execution_count": 13,
     "metadata": {},
     "output_type": "execute_result"
    }
   ],
   "source": [
    "df.head()"
   ]
  },
  {
   "cell_type": "code",
   "execution_count": 14,
   "id": "a55910ed-a647-4fab-972e-2913b3312525",
   "metadata": {},
   "outputs": [
    {
     "data": {
      "text/plain": [
       "rating\n",
       "5.0    12981998\n",
       "4.0     2518170\n",
       "1.0     1836990\n",
       "3.0     1324911\n",
       "2.0      933101\n",
       "Name: count, dtype: int64"
      ]
     },
     "execution_count": 14,
     "metadata": {},
     "output_type": "execute_result"
    }
   ],
   "source": [
    "df[\"rating\"].value_counts()"
   ]
  },
  {
   "cell_type": "code",
   "execution_count": null,
   "id": "295ca3c9-6b41-4898-a8b8-23ddf8e93380",
   "metadata": {},
   "outputs": [],
   "source": []
  },
  {
   "cell_type": "code",
   "execution_count": null,
   "id": "2ee383a8-017e-465a-b1a7-3ffeb0a21d7c",
   "metadata": {},
   "outputs": [],
   "source": []
  },
  {
   "cell_type": "markdown",
   "id": "83758820-d815-4377-8ed8-d878c88b203b",
   "metadata": {},
   "source": [
    "# Data Cleansing"
   ]
  },
  {
   "cell_type": "code",
   "execution_count": 15,
   "id": "1fff7c26-bf57-43ac-980c-fb99a7fd10d0",
   "metadata": {},
   "outputs": [],
   "source": [
    "# Fix missing values"
   ]
  },
  {
   "cell_type": "code",
   "execution_count": 16,
   "id": "ba61cb1d-06e6-4b62-90c6-50aebdc7a40f",
   "metadata": {},
   "outputs": [],
   "source": [
    "df.dropna(how=\"all\", inplace=True)"
   ]
  },
  {
   "cell_type": "code",
   "execution_count": 17,
   "id": "d201e166-ede3-4b3d-9104-bd51134bbc4f",
   "metadata": {},
   "outputs": [],
   "source": [
    "df.dropna(how=\"all\",axis=1, inplace=True)"
   ]
  },
  {
   "cell_type": "code",
   "execution_count": 18,
   "id": "2f43a3e3-14ff-4b8c-8919-2406e256ed7d",
   "metadata": {},
   "outputs": [],
   "source": [
    "df.fillna({\"review_title\": \"\", \"review_text\": \"\"}, inplace=True)"
   ]
  },
  {
   "cell_type": "code",
   "execution_count": 19,
   "id": "46e65b49-17b2-4aa0-9d9c-b085a826df10",
   "metadata": {},
   "outputs": [],
   "source": [
    "# Combine \"review_title\" and \"review_text\" columns into Text"
   ]
  },
  {
   "cell_type": "code",
   "execution_count": 20,
   "id": "3a41d189-8145-4b52-91ad-ea6e0142dcff",
   "metadata": {},
   "outputs": [],
   "source": [
    "df[\"review\"] = (df[\"review_title\"].str.rstrip('.!? \\n\\t') +  \". \" +  df[\"review_text\"]).str.lstrip('.!? \\n\\t')"
   ]
  },
  {
   "cell_type": "code",
   "execution_count": 21,
   "id": "3ec366b6-2356-42d2-bd18-e1647049984f",
   "metadata": {},
   "outputs": [],
   "source": [
    "# Remove 'review_title' and 'review_text' columns"
   ]
  },
  {
   "cell_type": "code",
   "execution_count": 22,
   "id": "ab9d7d37-d66a-456e-9b3a-e09019f87380",
   "metadata": {},
   "outputs": [],
   "source": [
    "df.drop(columns=[\"review_title\", \"review_text\"], inplace=True)"
   ]
  },
  {
   "cell_type": "code",
   "execution_count": 23,
   "id": "266d5786-f895-4671-bed0-66bb46fde411",
   "metadata": {},
   "outputs": [
    {
     "name": "stdout",
     "output_type": "stream",
     "text": [
      "<class 'pandas.core.frame.DataFrame'>\n",
      "RangeIndex: 19595170 entries, 0 to 19595169\n",
      "Data columns (total 2 columns):\n",
      " #   Column  Dtype  \n",
      "---  ------  -----  \n",
      " 0   rating  float64\n",
      " 1   review  object \n",
      "dtypes: float64(1), object(1)\n",
      "memory usage: 299.0+ MB\n"
     ]
    }
   ],
   "source": [
    "df.info()"
   ]
  },
  {
   "cell_type": "code",
   "execution_count": 24,
   "id": "f43cd205-6052-44f3-973f-33d754d0101f",
   "metadata": {},
   "outputs": [
    {
     "data": {
      "text/html": [
       "<div>\n",
       "<style scoped>\n",
       "    .dataframe tbody tr th:only-of-type {\n",
       "        vertical-align: middle;\n",
       "    }\n",
       "\n",
       "    .dataframe tbody tr th {\n",
       "        vertical-align: top;\n",
       "    }\n",
       "\n",
       "    .dataframe thead th {\n",
       "        text-align: right;\n",
       "    }\n",
       "</style>\n",
       "<table border=\"1\" class=\"dataframe\">\n",
       "  <thead>\n",
       "    <tr style=\"text-align: right;\">\n",
       "      <th></th>\n",
       "      <th>rating</th>\n",
       "      <th>review</th>\n",
       "    </tr>\n",
       "  </thead>\n",
       "  <tbody>\n",
       "    <tr>\n",
       "      <th>0</th>\n",
       "      <td>5.0</td>\n",
       "      <td>Crazy comfy. Not gonna lie- they are not much ...</td>\n",
       "    </tr>\n",
       "    <tr>\n",
       "      <th>1</th>\n",
       "      <td>5.0</td>\n",
       "      <td>Excellent. I love it. Pretty!</td>\n",
       "    </tr>\n",
       "    <tr>\n",
       "      <th>2</th>\n",
       "      <td>5.0</td>\n",
       "      <td>Best saddle pads. Huge fan of B Vertigo and th...</td>\n",
       "    </tr>\n",
       "    <tr>\n",
       "      <th>3</th>\n",
       "      <td>5.0</td>\n",
       "      <td>Perfect repair kit. I have a great Weaver halt...</td>\n",
       "    </tr>\n",
       "    <tr>\n",
       "      <th>4</th>\n",
       "      <td>5.0</td>\n",
       "      <td>Works great. This was great for a slightly too...</td>\n",
       "    </tr>\n",
       "  </tbody>\n",
       "</table>\n",
       "</div>"
      ],
      "text/plain": [
       "   rating                                             review\n",
       "0     5.0  Crazy comfy. Not gonna lie- they are not much ...\n",
       "1     5.0                      Excellent. I love it. Pretty!\n",
       "2     5.0  Best saddle pads. Huge fan of B Vertigo and th...\n",
       "3     5.0  Perfect repair kit. I have a great Weaver halt...\n",
       "4     5.0  Works great. This was great for a slightly too..."
      ]
     },
     "execution_count": 24,
     "metadata": {},
     "output_type": "execute_result"
    }
   ],
   "source": [
    "df.head()"
   ]
  },
  {
   "cell_type": "code",
   "execution_count": null,
   "id": "a47b3823-a397-409c-acad-89c3963b1c92",
   "metadata": {},
   "outputs": [],
   "source": []
  },
  {
   "cell_type": "code",
   "execution_count": null,
   "id": "7f7eb7d4-33dc-4195-8a93-b24f5377ba63",
   "metadata": {},
   "outputs": [],
   "source": []
  },
  {
   "cell_type": "markdown",
   "id": "7dcf8c9a-1b1e-43ae-b2e6-6757aea36013",
   "metadata": {},
   "source": [
    "# Text Processing"
   ]
  },
  {
   "cell_type": "code",
   "execution_count": 25,
   "id": "7a943ae2-cc5f-4ac3-b40c-1cb97b4520c6",
   "metadata": {},
   "outputs": [],
   "source": [
    "from nltk.sentiment.vader import SentimentIntensityAnalyzer"
   ]
  },
  {
   "cell_type": "code",
   "execution_count": 26,
   "id": "6b05ee70-8ae7-472b-8bfe-c45d310f4f6f",
   "metadata": {},
   "outputs": [],
   "source": [
    "sentiment_analyzer = SentimentIntensityAnalyzer()"
   ]
  },
  {
   "cell_type": "code",
   "execution_count": 27,
   "id": "c9dac272-2d45-41f4-ac60-64c2df3b971d",
   "metadata": {},
   "outputs": [],
   "source": [
    "nlp = spacy.load(\"en_core_web_sm\", disable=[\"parser\", \"ner\"])"
   ]
  },
  {
   "cell_type": "code",
   "execution_count": 28,
   "id": "6e8d2c3c-e580-45e9-9411-018dec948cba",
   "metadata": {},
   "outputs": [],
   "source": [
    "def clean_review(document):\n",
    "    document = document.lower().translate(str.maketrans('', '', string.punctuation))    \n",
    "    tokens = [token.lemma_ for token in nlp(document) if len(token.lemma_) >= 3 and not token.is_stop]\n",
    "    return \" \".join(tokens)"
   ]
  },
  {
   "cell_type": "code",
   "execution_count": 29,
   "id": "9ee8bac5-98b5-407b-b933-933adeecc532",
   "metadata": {},
   "outputs": [],
   "source": [
    "def calcualte_sentiment_score(document):\n",
    "    return sentiment_analyzer.polarity_scores(document)[\"compound\"]"
   ]
  },
  {
   "cell_type": "code",
   "execution_count": 30,
   "id": "5436a266-4a33-4681-be40-866bda58352d",
   "metadata": {},
   "outputs": [],
   "source": [
    "def detect_sentiment(sentiment_score):\n",
    "    return \"positive\" if sentiment_score >= 0.5 else \"negative\" if sentiment_score <= -0.5 else \"neutral\""
   ]
  },
  {
   "cell_type": "code",
   "execution_count": 31,
   "id": "b1f515d0-7818-43ad-86e1-d91ba73bb006",
   "metadata": {},
   "outputs": [],
   "source": [
    "df_test = df.head(10000).copy()"
   ]
  },
  {
   "cell_type": "code",
   "execution_count": 32,
   "id": "8ebe5f23-a06b-4e3a-8294-f149cf31db18",
   "metadata": {},
   "outputs": [
    {
     "name": "stdout",
     "output_type": "stream",
     "text": [
      "CPU times: total: 2min 17s\n",
      "Wall time: 2min 17s\n"
     ]
    }
   ],
   "source": [
    "%%time\n",
    "df_test[\"review_cleaned\"] = df_test[\"review\"].apply(clean_review)"
   ]
  },
  {
   "cell_type": "code",
   "execution_count": 33,
   "id": "9d7a7685-d551-4404-8830-b205cdc056ab",
   "metadata": {},
   "outputs": [],
   "source": [
    "df_test[\"sentiment_score\"] = df_test[\"review\"].apply(calcualte_sentiment_score)"
   ]
  },
  {
   "cell_type": "code",
   "execution_count": 34,
   "id": "4e3e6f08-9c6c-435c-bf28-0bb1942ff20f",
   "metadata": {},
   "outputs": [],
   "source": [
    "df_test[\"sentiment\"] = df_test[\"sentiment_score\"].apply(detect_sentiment)"
   ]
  },
  {
   "cell_type": "code",
   "execution_count": 35,
   "id": "bf2b7b71-b360-4f83-9957-f77a8f0b60e0",
   "metadata": {},
   "outputs": [],
   "source": [
    "df_test[\"sentiment_score_cleaned\"] = df_test[\"review_cleaned\"].apply(calcualte_sentiment_score)"
   ]
  },
  {
   "cell_type": "code",
   "execution_count": 36,
   "id": "dbc57542-f44a-4bc2-a3c9-5f1a7ec44889",
   "metadata": {},
   "outputs": [],
   "source": [
    "df_test[\"sentiment_cleaned\"] = df_test[\"sentiment_score_cleaned\"].apply(detect_sentiment)"
   ]
  },
  {
   "cell_type": "code",
   "execution_count": 37,
   "id": "af06f7c1-07f2-42d4-9a9f-e673868eebea",
   "metadata": {},
   "outputs": [
    {
     "data": {
      "text/html": [
       "<div>\n",
       "<style scoped>\n",
       "    .dataframe tbody tr th:only-of-type {\n",
       "        vertical-align: middle;\n",
       "    }\n",
       "\n",
       "    .dataframe tbody tr th {\n",
       "        vertical-align: top;\n",
       "    }\n",
       "\n",
       "    .dataframe thead th {\n",
       "        text-align: right;\n",
       "    }\n",
       "</style>\n",
       "<table border=\"1\" class=\"dataframe\">\n",
       "  <thead>\n",
       "    <tr style=\"text-align: right;\">\n",
       "      <th></th>\n",
       "      <th>rating</th>\n",
       "      <th>review</th>\n",
       "      <th>review_cleaned</th>\n",
       "      <th>sentiment_score</th>\n",
       "      <th>sentiment</th>\n",
       "      <th>sentiment_score_cleaned</th>\n",
       "      <th>sentiment_cleaned</th>\n",
       "    </tr>\n",
       "  </thead>\n",
       "  <tbody>\n",
       "    <tr>\n",
       "      <th>0</th>\n",
       "      <td>5.0</td>\n",
       "      <td>Crazy comfy. Not gonna lie- they are not much ...</td>\n",
       "      <td>crazy comfy lie look lol luckily ppl value thi...</td>\n",
       "      <td>0.9974</td>\n",
       "      <td>positive</td>\n",
       "      <td>0.9961</td>\n",
       "      <td>positive</td>\n",
       "    </tr>\n",
       "    <tr>\n",
       "      <th>1</th>\n",
       "      <td>5.0</td>\n",
       "      <td>Excellent. I love it. Pretty!</td>\n",
       "      <td>excellent love pretty</td>\n",
       "      <td>0.9080</td>\n",
       "      <td>positive</td>\n",
       "      <td>0.9022</td>\n",
       "      <td>positive</td>\n",
       "    </tr>\n",
       "    <tr>\n",
       "      <th>2</th>\n",
       "      <td>5.0</td>\n",
       "      <td>Best saddle pads. Huge fan of B Vertigo and th...</td>\n",
       "      <td>good saddle pad huge fan vertigo dressage pad ...</td>\n",
       "      <td>0.9143</td>\n",
       "      <td>positive</td>\n",
       "      <td>0.8298</td>\n",
       "      <td>positive</td>\n",
       "    </tr>\n",
       "    <tr>\n",
       "      <th>3</th>\n",
       "      <td>5.0</td>\n",
       "      <td>Perfect repair kit. I have a great Weaver halt...</td>\n",
       "      <td>perfect repair kit great weaver halter recentl...</td>\n",
       "      <td>0.9576</td>\n",
       "      <td>positive</td>\n",
       "      <td>0.9485</td>\n",
       "      <td>positive</td>\n",
       "    </tr>\n",
       "    <tr>\n",
       "      <th>4</th>\n",
       "      <td>5.0</td>\n",
       "      <td>Works great. This was great for a slightly too...</td>\n",
       "      <td>work great great slightly tooshort girth sturd...</td>\n",
       "      <td>0.9323</td>\n",
       "      <td>positive</td>\n",
       "      <td>0.9246</td>\n",
       "      <td>positive</td>\n",
       "    </tr>\n",
       "    <tr>\n",
       "      <th>5</th>\n",
       "      <td>5.0</td>\n",
       "      <td>Great stirrups with bar none grip. I have to s...</td>\n",
       "      <td>great stirrup bar grip grip pretty great great...</td>\n",
       "      <td>0.9348</td>\n",
       "      <td>positive</td>\n",
       "      <td>0.9313</td>\n",
       "      <td>positive</td>\n",
       "    </tr>\n",
       "    <tr>\n",
       "      <th>6</th>\n",
       "      <td>5.0</td>\n",
       "      <td>Perfect. Perfect for my boy! He looks adorable...</td>\n",
       "      <td>perfect perfect boy look adorable love pad ins...</td>\n",
       "      <td>0.9549</td>\n",
       "      <td>positive</td>\n",
       "      <td>0.9413</td>\n",
       "      <td>positive</td>\n",
       "    </tr>\n",
       "    <tr>\n",
       "      <th>7</th>\n",
       "      <td>5.0</td>\n",
       "      <td>Awesome leathers. These are amazing. My traine...</td>\n",
       "      <td>awesome leather amazing trainer notice right a...</td>\n",
       "      <td>0.8270</td>\n",
       "      <td>positive</td>\n",
       "      <td>0.9451</td>\n",
       "      <td>positive</td>\n",
       "    </tr>\n",
       "    <tr>\n",
       "      <th>8</th>\n",
       "      <td>4.0</td>\n",
       "      <td>Nice product, sizing off. Product is well made...</td>\n",
       "      <td>nice product size product size way woman purch...</td>\n",
       "      <td>0.9579</td>\n",
       "      <td>positive</td>\n",
       "      <td>0.8519</td>\n",
       "      <td>positive</td>\n",
       "    </tr>\n",
       "    <tr>\n",
       "      <th>9</th>\n",
       "      <td>4.0</td>\n",
       "      <td>Mixed feelings. I loved this chalk bag online,...</td>\n",
       "      <td>mix feeling love chalk bag online person like ...</td>\n",
       "      <td>0.9947</td>\n",
       "      <td>positive</td>\n",
       "      <td>0.9912</td>\n",
       "      <td>positive</td>\n",
       "    </tr>\n",
       "    <tr>\n",
       "      <th>10</th>\n",
       "      <td>1.0</td>\n",
       "      <td>Team emblem was affixed upside down. The trave...</td>\n",
       "      <td>team emblem affix upside travel mug bad coffee...</td>\n",
       "      <td>0.3169</td>\n",
       "      <td>neutral</td>\n",
       "      <td>-0.7650</td>\n",
       "      <td>negative</td>\n",
       "    </tr>\n",
       "    <tr>\n",
       "      <th>11</th>\n",
       "      <td>4.0</td>\n",
       "      <td>Four Stars. Works well, just wish the cap stor...</td>\n",
       "      <td>star work wish cap storage slide drinking cumb...</td>\n",
       "      <td>0.5859</td>\n",
       "      <td>positive</td>\n",
       "      <td>0.4019</td>\n",
       "      <td>neutral</td>\n",
       "    </tr>\n",
       "    <tr>\n",
       "      <th>12</th>\n",
       "      <td>3.0</td>\n",
       "      <td>is more like a shirt and it runs small. This i...</td>\n",
       "      <td>like shirt run small cute not wrong definitely...</td>\n",
       "      <td>0.9636</td>\n",
       "      <td>positive</td>\n",
       "      <td>0.8688</td>\n",
       "      <td>positive</td>\n",
       "    </tr>\n",
       "    <tr>\n",
       "      <th>13</th>\n",
       "      <td>4.0</td>\n",
       "      <td>Large cup. Very large cup. Quality is decent I...</td>\n",
       "      <td>large cup large cup quality decent like lsu ba...</td>\n",
       "      <td>0.8483</td>\n",
       "      <td>positive</td>\n",
       "      <td>0.7984</td>\n",
       "      <td>positive</td>\n",
       "    </tr>\n",
       "    <tr>\n",
       "      <th>14</th>\n",
       "      <td>5.0</td>\n",
       "      <td>Awesome Hat. This is such a nice hat!! I was p...</td>\n",
       "      <td>awesome hat nice hat pleasantly surprise quali...</td>\n",
       "      <td>0.9744</td>\n",
       "      <td>positive</td>\n",
       "      <td>0.9652</td>\n",
       "      <td>positive</td>\n",
       "    </tr>\n",
       "    <tr>\n",
       "      <th>15</th>\n",
       "      <td>5.0</td>\n",
       "      <td>Five Stars. Really nice quality! Soft and comf...</td>\n",
       "      <td>star nice quality soft comfy cool zipper pocket</td>\n",
       "      <td>0.7164</td>\n",
       "      <td>positive</td>\n",
       "      <td>0.6249</td>\n",
       "      <td>positive</td>\n",
       "    </tr>\n",
       "    <tr>\n",
       "      <th>16</th>\n",
       "      <td>5.0</td>\n",
       "      <td>Comfortable. This hat fit perfect. Not the big...</td>\n",
       "      <td>comfortable hat fit perfect big camo fan cute ...</td>\n",
       "      <td>0.9513</td>\n",
       "      <td>positive</td>\n",
       "      <td>0.9524</td>\n",
       "      <td>positive</td>\n",
       "    </tr>\n",
       "    <tr>\n",
       "      <th>17</th>\n",
       "      <td>5.0</td>\n",
       "      <td>Nice quality shirt. Nice shirt really nice qua...</td>\n",
       "      <td>nice quality shirt nice shirt nice quality sof...</td>\n",
       "      <td>0.9057</td>\n",
       "      <td>positive</td>\n",
       "      <td>0.9382</td>\n",
       "      <td>positive</td>\n",
       "    </tr>\n",
       "    <tr>\n",
       "      <th>18</th>\n",
       "      <td>1.0</td>\n",
       "      <td>Hardest to use. I'm terrible with planks so I ...</td>\n",
       "      <td>hard use terrible plank terrible maybe need lo...</td>\n",
       "      <td>0.5076</td>\n",
       "      <td>positive</td>\n",
       "      <td>0.2100</td>\n",
       "      <td>neutral</td>\n",
       "    </tr>\n",
       "    <tr>\n",
       "      <th>19</th>\n",
       "      <td>4.0</td>\n",
       "      <td>4 months up in PNW. Solid, but needs rain fly....</td>\n",
       "      <td>month pnw solid need rain fly solid product ho...</td>\n",
       "      <td>0.9606</td>\n",
       "      <td>positive</td>\n",
       "      <td>0.9153</td>\n",
       "      <td>positive</td>\n",
       "    </tr>\n",
       "  </tbody>\n",
       "</table>\n",
       "</div>"
      ],
      "text/plain": [
       "    rating                                             review  \\\n",
       "0      5.0  Crazy comfy. Not gonna lie- they are not much ...   \n",
       "1      5.0                      Excellent. I love it. Pretty!   \n",
       "2      5.0  Best saddle pads. Huge fan of B Vertigo and th...   \n",
       "3      5.0  Perfect repair kit. I have a great Weaver halt...   \n",
       "4      5.0  Works great. This was great for a slightly too...   \n",
       "5      5.0  Great stirrups with bar none grip. I have to s...   \n",
       "6      5.0  Perfect. Perfect for my boy! He looks adorable...   \n",
       "7      5.0  Awesome leathers. These are amazing. My traine...   \n",
       "8      4.0  Nice product, sizing off. Product is well made...   \n",
       "9      4.0  Mixed feelings. I loved this chalk bag online,...   \n",
       "10     1.0  Team emblem was affixed upside down. The trave...   \n",
       "11     4.0  Four Stars. Works well, just wish the cap stor...   \n",
       "12     3.0  is more like a shirt and it runs small. This i...   \n",
       "13     4.0  Large cup. Very large cup. Quality is decent I...   \n",
       "14     5.0  Awesome Hat. This is such a nice hat!! I was p...   \n",
       "15     5.0  Five Stars. Really nice quality! Soft and comf...   \n",
       "16     5.0  Comfortable. This hat fit perfect. Not the big...   \n",
       "17     5.0  Nice quality shirt. Nice shirt really nice qua...   \n",
       "18     1.0  Hardest to use. I'm terrible with planks so I ...   \n",
       "19     4.0  4 months up in PNW. Solid, but needs rain fly....   \n",
       "\n",
       "                                       review_cleaned  sentiment_score  \\\n",
       "0   crazy comfy lie look lol luckily ppl value thi...           0.9974   \n",
       "1                               excellent love pretty           0.9080   \n",
       "2   good saddle pad huge fan vertigo dressage pad ...           0.9143   \n",
       "3   perfect repair kit great weaver halter recentl...           0.9576   \n",
       "4   work great great slightly tooshort girth sturd...           0.9323   \n",
       "5   great stirrup bar grip grip pretty great great...           0.9348   \n",
       "6   perfect perfect boy look adorable love pad ins...           0.9549   \n",
       "7   awesome leather amazing trainer notice right a...           0.8270   \n",
       "8   nice product size product size way woman purch...           0.9579   \n",
       "9   mix feeling love chalk bag online person like ...           0.9947   \n",
       "10  team emblem affix upside travel mug bad coffee...           0.3169   \n",
       "11  star work wish cap storage slide drinking cumb...           0.5859   \n",
       "12  like shirt run small cute not wrong definitely...           0.9636   \n",
       "13  large cup large cup quality decent like lsu ba...           0.8483   \n",
       "14  awesome hat nice hat pleasantly surprise quali...           0.9744   \n",
       "15    star nice quality soft comfy cool zipper pocket           0.7164   \n",
       "16  comfortable hat fit perfect big camo fan cute ...           0.9513   \n",
       "17  nice quality shirt nice shirt nice quality sof...           0.9057   \n",
       "18  hard use terrible plank terrible maybe need lo...           0.5076   \n",
       "19  month pnw solid need rain fly solid product ho...           0.9606   \n",
       "\n",
       "   sentiment  sentiment_score_cleaned sentiment_cleaned  \n",
       "0   positive                   0.9961          positive  \n",
       "1   positive                   0.9022          positive  \n",
       "2   positive                   0.8298          positive  \n",
       "3   positive                   0.9485          positive  \n",
       "4   positive                   0.9246          positive  \n",
       "5   positive                   0.9313          positive  \n",
       "6   positive                   0.9413          positive  \n",
       "7   positive                   0.9451          positive  \n",
       "8   positive                   0.8519          positive  \n",
       "9   positive                   0.9912          positive  \n",
       "10   neutral                  -0.7650          negative  \n",
       "11  positive                   0.4019           neutral  \n",
       "12  positive                   0.8688          positive  \n",
       "13  positive                   0.7984          positive  \n",
       "14  positive                   0.9652          positive  \n",
       "15  positive                   0.6249          positive  \n",
       "16  positive                   0.9524          positive  \n",
       "17  positive                   0.9382          positive  \n",
       "18  positive                   0.2100           neutral  \n",
       "19  positive                   0.9153          positive  "
      ]
     },
     "execution_count": 37,
     "metadata": {},
     "output_type": "execute_result"
    }
   ],
   "source": [
    "df_test.head(20)"
   ]
  },
  {
   "cell_type": "code",
   "execution_count": 38,
   "id": "6dd727b9-821e-4b30-952d-10f1b07070d4",
   "metadata": {},
   "outputs": [
    {
     "data": {
      "text/plain": [
       "sentiment\n",
       "positive    7750\n",
       "neutral     1818\n",
       "negative     432\n",
       "Name: count, dtype: int64"
      ]
     },
     "execution_count": 38,
     "metadata": {},
     "output_type": "execute_result"
    }
   ],
   "source": [
    "df_test[\"sentiment\"].value_counts()"
   ]
  },
  {
   "cell_type": "code",
   "execution_count": 39,
   "id": "8d5d14d3-a6af-4f73-8a33-125621c3d987",
   "metadata": {},
   "outputs": [
    {
     "data": {
      "text/plain": [
       "sentiment_cleaned\n",
       "positive    7852\n",
       "neutral     1902\n",
       "negative     246\n",
       "Name: count, dtype: int64"
      ]
     },
     "execution_count": 39,
     "metadata": {},
     "output_type": "execute_result"
    }
   ],
   "source": [
    "df_test[\"sentiment_cleaned\"].value_counts()"
   ]
  },
  {
   "cell_type": "code",
   "execution_count": null,
   "id": "315f2dc7-1dbb-4564-856e-7b917235cdb6",
   "metadata": {},
   "outputs": [],
   "source": []
  },
  {
   "cell_type": "markdown",
   "id": "877cb4f2-7853-4da3-978a-183c64c312e9",
   "metadata": {},
   "source": [
    "# Save Cleaned Data"
   ]
  },
  {
   "cell_type": "code",
   "execution_count": 41,
   "id": "5076e157-f014-4e5b-8e5b-62ed1da28b88",
   "metadata": {},
   "outputs": [],
   "source": [
    "df_test.to_csv(f\"{root_path}/datasets/temp/Amazon Reviews 2023/Reviews_With_Sentiment.csv\")"
   ]
  },
  {
   "cell_type": "code",
   "execution_count": null,
   "id": "9c21a52f-e014-496c-93c3-9b24e5c5a3df",
   "metadata": {},
   "outputs": [],
   "source": []
  },
  {
   "cell_type": "code",
   "execution_count": null,
   "id": "38cddefd-4f8f-4a22-9fba-9f96b9b1fcd5",
   "metadata": {},
   "outputs": [],
   "source": []
  }
 ],
 "metadata": {
  "kernelspec": {
   "display_name": "Python 3 (ipykernel)",
   "language": "python",
   "name": "python3"
  },
  "language_info": {
   "codemirror_mode": {
    "name": "ipython",
    "version": 3
   },
   "file_extension": ".py",
   "mimetype": "text/x-python",
   "name": "python",
   "nbconvert_exporter": "python",
   "pygments_lexer": "ipython3",
   "version": "3.9.19"
  }
 },
 "nbformat": 4,
 "nbformat_minor": 5
}
